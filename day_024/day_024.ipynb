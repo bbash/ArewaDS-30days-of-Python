{
 "cells": [
  {
   "cell_type": "markdown",
   "metadata": {},
   "source": [
    "Importing Numpy"
   ]
  },
  {
   "cell_type": "code",
   "execution_count": 1,
   "metadata": {},
   "outputs": [
    {
     "name": "stdout",
     "output_type": "stream",
     "text": [
      "1.23.4\n",
      "['ALLOW_THREADS', 'AxisError', 'BUFSIZE', 'CLIP', 'ComplexWarning', 'DataSource', 'ERR_CALL', 'ERR_DEFAULT', 'ERR_IGNORE', 'ERR_LOG', 'ERR_PRINT', 'ERR_RAISE', 'ERR_WARN', 'FLOATING_POINT_SUPPORT', 'FPE_DIVIDEBYZERO', 'FPE_INVALID', 'FPE_OVERFLOW', 'FPE_UNDERFLOW', 'False_', 'Inf', 'Infinity', 'MAXDIMS', 'MAY_SHARE_BOUNDS', 'MAY_SHARE_EXACT', 'ModuleDeprecationWarning', 'NAN', 'NINF', 'NZERO', 'NaN', 'PINF', 'PZERO', 'RAISE', 'RankWarning', 'SHIFT_DIVIDEBYZERO', 'SHIFT_INVALID', 'SHIFT_OVERFLOW', 'SHIFT_UNDERFLOW', 'ScalarType', 'Tester', 'TooHardError', 'True_', 'UFUNC_BUFSIZE_DEFAULT', 'UFUNC_PYVALS_NAME', 'VisibleDeprecationWarning', 'WRAP', '_CopyMode', '_NoValue', '_UFUNC_API', '__NUMPY_SETUP__', '__all__', '__builtins__', '__cached__', '__config__', '__deprecated_attrs__', '__dir__', '__doc__', '__expired_functions__', '__file__', '__getattr__', '__git_version__', '__loader__', '__name__', '__package__', '__path__', '__spec__', '__version__', '_add_newdoc_ufunc', '_distributor_init', '_financial_names', '_globals', '_mat', '_pyinstaller_hooks_dir', '_pytesttester', '_version', 'abs', 'absolute', 'add', 'add_docstring', 'add_newdoc', 'add_newdoc_ufunc', 'all', 'allclose', 'alltrue', 'amax', 'amin', 'angle', 'any', 'append', 'apply_along_axis', 'apply_over_axes', 'arange', 'arccos', 'arccosh', 'arcsin', 'arcsinh', 'arctan', 'arctan2', 'arctanh', 'argmax', 'argmin', 'argpartition', 'argsort', 'argwhere', 'around', 'array', 'array2string', 'array_equal', 'array_equiv', 'array_repr', 'array_split', 'array_str', 'asanyarray', 'asarray', 'asarray_chkfinite', 'ascontiguousarray', 'asfarray', 'asfortranarray', 'asmatrix', 'atleast_1d', 'atleast_2d', 'atleast_3d', 'average', 'bartlett', 'base_repr', 'binary_repr', 'bincount', 'bitwise_and', 'bitwise_not', 'bitwise_or', 'bitwise_xor', 'blackman', 'block', 'bmat', 'bool8', 'bool_', 'broadcast', 'broadcast_arrays', 'broadcast_shapes', 'broadcast_to', 'busday_count', 'busday_offset', 'busdaycalendar', 'byte', 'byte_bounds', 'bytes0', 'bytes_', 'c_', 'can_cast', 'cast', 'cbrt', 'cdouble', 'ceil', 'cfloat', 'char', 'character', 'chararray', 'choose', 'clip', 'clongdouble', 'clongfloat', 'column_stack', 'common_type', 'compare_chararrays', 'compat', 'complex128', 'complex64', 'complex_', 'complexfloating', 'compress', 'concatenate', 'conj', 'conjugate', 'convolve', 'copy', 'copysign', 'copyto', 'core', 'corrcoef', 'correlate', 'cos', 'cosh', 'count_nonzero', 'cov', 'cross', 'csingle', 'ctypeslib', 'cumprod', 'cumproduct', 'cumsum', 'datetime64', 'datetime_as_string', 'datetime_data', 'deg2rad', 'degrees', 'delete', 'deprecate', 'deprecate_with_doc', 'diag', 'diag_indices', 'diag_indices_from', 'diagflat', 'diagonal', 'diff', 'digitize', 'disp', 'divide', 'divmod', 'dot', 'double', 'dsplit', 'dstack', 'dtype', 'e', 'ediff1d', 'einsum', 'einsum_path', 'emath', 'empty', 'empty_like', 'equal', 'errstate', 'euler_gamma', 'exp', 'exp2', 'expand_dims', 'expm1', 'extract', 'eye', 'fabs', 'fastCopyAndTranspose', 'fft', 'fill_diagonal', 'find_common_type', 'finfo', 'fix', 'flatiter', 'flatnonzero', 'flexible', 'flip', 'fliplr', 'flipud', 'float16', 'float32', 'float64', 'float_', 'float_power', 'floating', 'floor', 'floor_divide', 'fmax', 'fmin', 'fmod', 'format_float_positional', 'format_float_scientific', 'format_parser', 'frexp', 'from_dlpack', 'frombuffer', 'fromfile', 'fromfunction', 'fromiter', 'frompyfunc', 'fromregex', 'fromstring', 'full', 'full_like', 'gcd', 'generic', 'genfromtxt', 'geomspace', 'get_array_wrap', 'get_include', 'get_printoptions', 'getbufsize', 'geterr', 'geterrcall', 'geterrobj', 'gradient', 'greater', 'greater_equal', 'half', 'hamming', 'hanning', 'heaviside', 'histogram', 'histogram2d', 'histogram_bin_edges', 'histogramdd', 'hsplit', 'hstack', 'hypot', 'i0', 'identity', 'iinfo', 'imag', 'in1d', 'index_exp', 'indices', 'inexact', 'inf', 'info', 'infty', 'inner', 'insert', 'int0', 'int16', 'int32', 'int64', 'int8', 'int_', 'intc', 'integer', 'interp', 'intersect1d', 'intp', 'invert', 'is_busday', 'isclose', 'iscomplex', 'iscomplexobj', 'isfinite', 'isfortran', 'isin', 'isinf', 'isnan', 'isnat', 'isneginf', 'isposinf', 'isreal', 'isrealobj', 'isscalar', 'issctype', 'issubclass_', 'issubdtype', 'issubsctype', 'iterable', 'ix_', 'kaiser', 'kron', 'lcm', 'ldexp', 'left_shift', 'less', 'less_equal', 'lexsort', 'lib', 'linalg', 'linspace', 'little_endian', 'load', 'loadtxt', 'log', 'log10', 'log1p', 'log2', 'logaddexp', 'logaddexp2', 'logical_and', 'logical_not', 'logical_or', 'logical_xor', 'logspace', 'longcomplex', 'longdouble', 'longfloat', 'longlong', 'lookfor', 'ma', 'mask_indices', 'mat', 'math', 'matmul', 'matrix', 'matrixlib', 'max', 'maximum', 'maximum_sctype', 'may_share_memory', 'mean', 'median', 'memmap', 'meshgrid', 'mgrid', 'min', 'min_scalar_type', 'minimum', 'mintypecode', 'mod', 'modf', 'moveaxis', 'msort', 'multiply', 'nan', 'nan_to_num', 'nanargmax', 'nanargmin', 'nancumprod', 'nancumsum', 'nanmax', 'nanmean', 'nanmedian', 'nanmin', 'nanpercentile', 'nanprod', 'nanquantile', 'nanstd', 'nansum', 'nanvar', 'nbytes', 'ndarray', 'ndenumerate', 'ndim', 'ndindex', 'nditer', 'negative', 'nested_iters', 'newaxis', 'nextafter', 'nonzero', 'not_equal', 'numarray', 'number', 'obj2sctype', 'object0', 'object_', 'ogrid', 'oldnumeric', 'ones', 'ones_like', 'os', 'outer', 'packbits', 'pad', 'partition', 'percentile', 'pi', 'piecewise', 'place', 'poly', 'poly1d', 'polyadd', 'polyder', 'polydiv', 'polyfit', 'polyint', 'polymul', 'polynomial', 'polysub', 'polyval', 'positive', 'power', 'printoptions', 'prod', 'product', 'promote_types', 'ptp', 'put', 'put_along_axis', 'putmask', 'quantile', 'r_', 'rad2deg', 'radians', 'random', 'ravel', 'ravel_multi_index', 'real', 'real_if_close', 'rec', 'recarray', 'recfromcsv', 'recfromtxt', 'reciprocal', 'record', 'remainder', 'repeat', 'require', 'reshape', 'resize', 'result_type', 'right_shift', 'rint', 'roll', 'rollaxis', 'roots', 'rot90', 'round', 'round_', 'row_stack', 's_', 'safe_eval', 'save', 'savetxt', 'savez', 'savez_compressed', 'sctype2char', 'sctypeDict', 'sctypes', 'searchsorted', 'select', 'set_numeric_ops', 'set_printoptions', 'set_string_function', 'setbufsize', 'setdiff1d', 'seterr', 'seterrcall', 'seterrobj', 'setxor1d', 'shape', 'shares_memory', 'short', 'show_config', 'sign', 'signbit', 'signedinteger', 'sin', 'sinc', 'single', 'singlecomplex', 'sinh', 'size', 'sometrue', 'sort', 'sort_complex', 'source', 'spacing', 'split', 'sqrt', 'square', 'squeeze', 'stack', 'std', 'str0', 'str_', 'string_', 'subtract', 'sum', 'swapaxes', 'sys', 'take', 'take_along_axis', 'tan', 'tanh', 'tensordot', 'test', 'testing', 'tile', 'timedelta64', 'trace', 'tracemalloc_domain', 'transpose', 'trapz', 'tri', 'tril', 'tril_indices', 'tril_indices_from', 'trim_zeros', 'triu', 'triu_indices', 'triu_indices_from', 'true_divide', 'trunc', 'typecodes', 'typename', 'ubyte', 'ufunc', 'uint', 'uint0', 'uint16', 'uint32', 'uint64', 'uint8', 'uintc', 'uintp', 'ulonglong', 'unicode_', 'union1d', 'unique', 'unpackbits', 'unravel_index', 'unsignedinteger', 'unwrap', 'use_hugepage', 'ushort', 'vander', 'var', 'vdot', 'vectorize', 'version', 'void', 'void0', 'vsplit', 'vstack', 'warnings', 'where', 'who', 'zeros', 'zeros_like']\n"
     ]
    }
   ],
   "source": [
    "import numpy as np\n",
    "print(np.__version__)\n",
    "print(dir(np))"
   ]
  },
  {
   "cell_type": "markdown",
   "metadata": {},
   "source": [
    "Creating numpy array using"
   ]
  },
  {
   "cell_type": "code",
   "execution_count": 3,
   "metadata": {},
   "outputs": [
    {
     "name": "stdout",
     "output_type": "stream",
     "text": [
      "Type <class 'list'>\n",
      "[1, 2, 3, 4, 5]\n",
      "[[0, 1, 2], [3, 4, 5], [6, 7, 8]]\n",
      "[1 2 3 4 5]\n"
     ]
    }
   ],
   "source": [
    "#Creating python List\n",
    "python_list = [1, 2, 3, 4, 5]\n",
    "\n",
    "#checking the data type\n",
    "print('Type', type(python_list))\n",
    "\n",
    "print(python_list)\n",
    "\n",
    "two_dimensional_list = [[0,1,2], [3, 4, 5], [6, 7, 8]]\n",
    "print(two_dimensional_list)\n",
    "\n",
    "#creating Numpy(Numerical Python) array from python list\n",
    "numpy_array_from_list =np.array(python_list)\n",
    "print(numpy_array_from_list)"
   ]
  },
  {
   "cell_type": "markdown",
   "metadata": {},
   "source": [
    "Creating float numpy arrays"
   ]
  },
  {
   "cell_type": "code",
   "execution_count": 4,
   "metadata": {},
   "outputs": [
    {
     "name": "stdout",
     "output_type": "stream",
     "text": [
      "[1. 2. 3. 4. 5.]\n"
     ]
    }
   ],
   "source": [
    "# Python List\n",
    "python_list = [1,2,3,4,5]\n",
    "\n",
    "numpy_array_from_list2 = np.array(python_list, dtype = float)\n",
    "print(numpy_array_from_list2)"
   ]
  },
  {
   "cell_type": "markdown",
   "metadata": {},
   "source": [
    "Creating boolean numpy arrays "
   ]
  },
  {
   "cell_type": "code",
   "execution_count": 7,
   "metadata": {},
   "outputs": [
    {
     "name": "stdout",
     "output_type": "stream",
     "text": [
      "[False  True  True False False]\n"
     ]
    }
   ],
   "source": [
    "numpy_bool_array = np.array([0, 1, -1, 0, 0], dtype = bool)\n",
    "print(numpy_bool_array)"
   ]
  },
  {
   "cell_type": "markdown",
   "metadata": {},
   "source": [
    "Creating multidimensional arrya using nump"
   ]
  },
  {
   "cell_type": "code",
   "execution_count": 9,
   "metadata": {},
   "outputs": [
    {
     "name": "stdout",
     "output_type": "stream",
     "text": [
      "<class 'numpy.ndarray'>\n",
      "[[0 1 2]\n",
      " [3 4 5]\n",
      " [6 7 8]]\n"
     ]
    }
   ],
   "source": [
    "two_dimensional_list = [[0, 1, 2], [3, 4, 5], [6, 7, 8]]\n",
    "numpy_two_dimensional_list = np.array(two_dimensional_list)\n",
    "print(type(numpy_two_dimensional_list))\n",
    "print(numpy_two_dimensional_list)"
   ]
  },
  {
   "cell_type": "markdown",
   "metadata": {},
   "source": [
    "Converting numpy array to list"
   ]
  },
  {
   "cell_type": "code",
   "execution_count": 11,
   "metadata": {},
   "outputs": [
    {
     "name": "stdout",
     "output_type": "stream",
     "text": [
      "<class 'list'>\n",
      "one dimensional array: [1, 2, 3, 4, 5]\n",
      "two dimensional array: [[0, 1, 2], [3, 4, 5], [6, 7, 8]]\n"
     ]
    }
   ],
   "source": [
    "np_to_list = numpy_array_from_list.tolist()\n",
    "print(type(np_to_list))\n",
    "print('one dimensional array:', np_to_list)\n",
    "print('two dimensional array:', numpy_two_dimensional_list.tolist())"
   ]
  },
  {
   "cell_type": "markdown",
   "metadata": {},
   "source": [
    "Creating numpy array from tuple"
   ]
  },
  {
   "cell_type": "code",
   "execution_count": 12,
   "metadata": {},
   "outputs": [
    {
     "name": "stdout",
     "output_type": "stream",
     "text": [
      "<class 'tuple'>\n",
      "Python tuple:  (1, 2, 3, 4, 5)\n",
      "<class 'numpy.ndarray'>\n",
      "numpy_array_from_tuple:  [1 2 3 4 5]\n"
     ]
    }
   ],
   "source": [
    "#Numpy array from tuple\n",
    "#creating tuple in Python\n",
    "python_tuple = (1, 2, 3, 4, 5)\n",
    "print(type(python_tuple))\n",
    "print('Python tuple: ', python_tuple)\n",
    "\n",
    "numpy_array_From_tuple = np.array(python_tuple)\n",
    "print(type(numpy_array_From_tuple))\n",
    "print('numpy_array_from_tuple: ', numpy_array_From_tuple)\n"
   ]
  },
  {
   "cell_type": "markdown",
   "metadata": {},
   "source": [
    "Shape of numpy array"
   ]
  },
  {
   "cell_type": "code",
   "execution_count": 13,
   "metadata": {},
   "outputs": [
    {
     "name": "stdout",
     "output_type": "stream",
     "text": [
      "[1 2 3 4 5]\n",
      "shape of nums:  (5,)\n",
      "[[0 1 2]\n",
      " [3 4 5]\n",
      " [6 7 8]]\n",
      "shape of numpy_two_dimensional_list:  (3, 3)\n",
      "(3, 4)\n"
     ]
    }
   ],
   "source": [
    "nums = np.array([1, 2, 3, 4, 5])\n",
    "print(nums)\n",
    "print('shape of nums: ', nums.shape)\n",
    "print(numpy_two_dimensional_list)\n",
    "print('shape of numpy_two_dimensional_list: ', numpy_two_dimensional_list.shape)\n",
    "three_by_four_array = np.array([[0, 1, 2, 3],\n",
    "        [4,5,6,7],\n",
    "        [8,9,10, 11]])\n",
    "print(three_by_four_array.shape)"
   ]
  },
  {
   "cell_type": "markdown",
   "metadata": {},
   "source": [
    "Data type of numpy array"
   ]
  },
  {
   "cell_type": "code",
   "execution_count": 14,
   "metadata": {},
   "outputs": [
    {
     "name": "stdout",
     "output_type": "stream",
     "text": [
      "[-3 -2 -1  0  1  2  3]\n",
      "int32\n",
      "[-3. -2. -1.  0.  1.  2.  3.]\n",
      "float64\n"
     ]
    }
   ],
   "source": [
    "int_lists = [-3, -2, -1, 0, 1, 2,3]\n",
    "int_array = np.array(int_lists)\n",
    "float_array = np.array(int_lists, dtype=float)\n",
    "\n",
    "print(int_array)\n",
    "print(int_array.dtype)\n",
    "print(float_array)\n",
    "print(float_array.dtype)"
   ]
  },
  {
   "cell_type": "markdown",
   "metadata": {},
   "source": [
    "Size of a numpy array"
   ]
  },
  {
   "cell_type": "code",
   "execution_count": 15,
   "metadata": {},
   "outputs": [
    {
     "name": "stdout",
     "output_type": "stream",
     "text": [
      "The size: 5\n",
      "The size: 9\n"
     ]
    }
   ],
   "source": [
    "numpy_array_from_list = np.array([1, 2, 3, 4, 5])\n",
    "two_dimensional_list = np.array([[0, 1, 2],\n",
    "                              [3, 4, 5],\n",
    "                              [6, 7, 8]])\n",
    "\n",
    "print('The size:', numpy_array_from_list.size) \n",
    "print('The size:', two_dimensional_list.size)  #"
   ]
  },
  {
   "cell_type": "markdown",
   "metadata": {},
   "source": [
    "Mathematical Operation using numpy"
   ]
  },
  {
   "cell_type": "markdown",
   "metadata": {},
   "source": [
    "Addition"
   ]
  },
  {
   "cell_type": "code",
   "execution_count": 16,
   "metadata": {},
   "outputs": [
    {
     "name": "stdout",
     "output_type": "stream",
     "text": [
      "original array:  [1 2 3 4 5]\n",
      "[11 12 13 14 15]\n"
     ]
    }
   ],
   "source": [
    "# Mathematical Operation\n",
    "# Addition\n",
    "numpy_array_from_list = np.array([1, 2, 3, 4, 5])\n",
    "print('original array: ', numpy_array_from_list)\n",
    "ten_plus_original = numpy_array_from_list  + 10\n",
    "print(ten_plus_original)"
   ]
  },
  {
   "cell_type": "markdown",
   "metadata": {},
   "source": [
    "Subtraction"
   ]
  },
  {
   "cell_type": "code",
   "execution_count": 17,
   "metadata": {},
   "outputs": [
    {
     "name": "stdout",
     "output_type": "stream",
     "text": [
      "original array:  [1 2 3 4 5]\n",
      "[-9 -8 -7 -6 -5]\n"
     ]
    }
   ],
   "source": [
    "# Subtraction\n",
    "numpy_array_from_list = np.array([1, 2, 3, 4, 5])\n",
    "print('original array: ', numpy_array_from_list)\n",
    "ten_minus_original = numpy_array_from_list  - 10\n",
    "print(ten_minus_original)"
   ]
  },
  {
   "cell_type": "markdown",
   "metadata": {},
   "source": [
    "Multiplication"
   ]
  },
  {
   "cell_type": "code",
   "execution_count": 18,
   "metadata": {},
   "outputs": [
    {
     "name": "stdout",
     "output_type": "stream",
     "text": [
      "original array:  [1 2 3 4 5]\n",
      "[10 20 30 40 50]\n"
     ]
    }
   ],
   "source": [
    "# Multiplication\n",
    "numpy_array_from_list = np.array([1, 2, 3, 4, 5])\n",
    "print('original array: ', numpy_array_from_list)\n",
    "ten_times_original = numpy_array_from_list * 10\n",
    "print(ten_times_original)"
   ]
  },
  {
   "cell_type": "markdown",
   "metadata": {},
   "source": [
    "Division"
   ]
  },
  {
   "cell_type": "code",
   "execution_count": 19,
   "metadata": {},
   "outputs": [
    {
     "name": "stdout",
     "output_type": "stream",
     "text": [
      "original array:  [1 2 3 4 5]\n",
      "[0.1 0.2 0.3 0.4 0.5]\n"
     ]
    }
   ],
   "source": [
    "# Division\n",
    "numpy_array_from_list = np.array([1, 2, 3, 4, 5])\n",
    "print('original array: ', numpy_array_from_list)\n",
    "ten_times_original = numpy_array_from_list / 10\n",
    "print(ten_times_original)"
   ]
  },
  {
   "cell_type": "markdown",
   "metadata": {},
   "source": [
    "Modulus"
   ]
  },
  {
   "cell_type": "code",
   "execution_count": 20,
   "metadata": {},
   "outputs": [
    {
     "name": "stdout",
     "output_type": "stream",
     "text": [
      "original array:  [1 2 3 4 5]\n",
      "[1 2 0 1 2]\n"
     ]
    }
   ],
   "source": [
    "# Modulus; Finding the remainder\n",
    "numpy_array_from_list = np.array([1, 2, 3, 4, 5])\n",
    "print('original array: ', numpy_array_from_list)\n",
    "ten_times_original = numpy_array_from_list % 3\n",
    "print(ten_times_original)"
   ]
  },
  {
   "cell_type": "markdown",
   "metadata": {},
   "source": [
    "Floor Division"
   ]
  },
  {
   "cell_type": "code",
   "execution_count": 22,
   "metadata": {},
   "outputs": [
    {
     "name": "stdout",
     "output_type": "stream",
     "text": [
      "original array:  [1 2 3 4 5]\n",
      "[0 1 1 2 2]\n"
     ]
    }
   ],
   "source": [
    "# Floor division: the division result without the remainder\n",
    "numpy_array_from_list = np.array([1, 2, 3, 4, 5])\n",
    "print('original array: ', numpy_array_from_list)\n",
    "ten_times_original = numpy_array_from_list // 2\n",
    "print(ten_times_original)"
   ]
  },
  {
   "cell_type": "markdown",
   "metadata": {},
   "source": [
    "Exponential"
   ]
  },
  {
   "cell_type": "code",
   "execution_count": 23,
   "metadata": {},
   "outputs": [
    {
     "name": "stdout",
     "output_type": "stream",
     "text": [
      "original array:  [1 2 3 4 5]\n",
      "[ 1  4  9 16 25]\n"
     ]
    }
   ],
   "source": [
    "# Exponential is finding some number the power of another:\n",
    "numpy_array_from_list = np.array([1, 2, 3, 4, 5])\n",
    "print('original array: ', numpy_array_from_list)\n",
    "ten_times_original = numpy_array_from_list  ** 2\n",
    "print(ten_times_original)"
   ]
  },
  {
   "cell_type": "markdown",
   "metadata": {},
   "source": [
    "Checking data types"
   ]
  },
  {
   "cell_type": "code",
   "execution_count": 25,
   "metadata": {},
   "outputs": [
    {
     "name": "stdout",
     "output_type": "stream",
     "text": [
      "int32\n",
      "<class 'numpy.ndarray'>\n",
      "float64\n",
      "bool\n"
     ]
    }
   ],
   "source": [
    "#Int,  Float numbers\n",
    "numpy_int_arr = np.array([1,2,3,4])\n",
    "numpy_float_arr = np.array([1.1, 2.0,3.2])\n",
    "numpy_bool_arr = np.array([-3, -2, 0, 1,2,3], dtype='bool')\n",
    "\n",
    "print(numpy_int_arr.dtype)\n",
    "print(numpy_float_arr.dtype)\n",
    "print(numpy_bool_arr.dtype)\n"
   ]
  },
  {
   "cell_type": "markdown",
   "metadata": {},
   "source": [
    "Converting types"
   ]
  },
  {
   "cell_type": "code",
   "execution_count": 26,
   "metadata": {},
   "outputs": [
    {
     "data": {
      "text/plain": [
       "array([1., 2., 3., 4.])"
      ]
     },
     "execution_count": 26,
     "metadata": {},
     "output_type": "execute_result"
    }
   ],
   "source": [
    "# Int to Float\n",
    "numpy_int_arr = np.array([1,2,3,4], dtype = 'float')\n",
    "numpy_int_arr"
   ]
  },
  {
   "cell_type": "code",
   "execution_count": 27,
   "metadata": {},
   "outputs": [
    {
     "data": {
      "text/plain": [
       "array([1, 2, 3, 4])"
      ]
     },
     "execution_count": 27,
     "metadata": {},
     "output_type": "execute_result"
    }
   ],
   "source": [
    "# Float to Int\n",
    "numpy_int_arr = np.array([1., 2., 3., 4.], dtype = 'int')\n",
    "numpy_int_arr"
   ]
  },
  {
   "cell_type": "code",
   "execution_count": 28,
   "metadata": {},
   "outputs": [
    {
     "data": {
      "text/plain": [
       "array([ True,  True, False,  True,  True,  True])"
      ]
     },
     "execution_count": 28,
     "metadata": {},
     "output_type": "execute_result"
    }
   ],
   "source": [
    "# Int to boolean\n",
    "np.array([-3, -2, 0, 1,2,3], dtype='bool')"
   ]
  },
  {
   "cell_type": "code",
   "execution_count": 31,
   "metadata": {},
   "outputs": [
    {
     "data": {
      "text/plain": [
       "array(['1', '2', '3', '4'], dtype='<U11')"
      ]
     },
     "execution_count": 31,
     "metadata": {},
     "output_type": "execute_result"
    }
   ],
   "source": [
    "# Int to str\n",
    "numpy_int_arr.astype('int').astype('str')"
   ]
  },
  {
   "cell_type": "markdown",
   "metadata": {},
   "source": [
    "Multi-dimensional Arrays"
   ]
  },
  {
   "cell_type": "code",
   "execution_count": 32,
   "metadata": {},
   "outputs": [
    {
     "name": "stdout",
     "output_type": "stream",
     "text": [
      "<class 'numpy.ndarray'>\n",
      "[[1 2 3]\n",
      " [4 5 6]\n",
      " [7 8 9]]\n",
      "Shape:  (3, 3)\n",
      "Size: 9\n",
      "Data type: int32\n"
     ]
    }
   ],
   "source": [
    "# 2 Dimension Array\n",
    "two_dimension_array = np.array([(1,2,3),(4,5,6), (7,8,9)])\n",
    "print(type (two_dimension_array))\n",
    "print(two_dimension_array)\n",
    "print('Shape: ', two_dimension_array.shape)\n",
    "print('Size:', two_dimension_array.size)\n",
    "print('Data type:', two_dimension_array.dtype)"
   ]
  },
  {
   "cell_type": "markdown",
   "metadata": {},
   "source": [
    "Getting items from a numpy array"
   ]
  },
  {
   "cell_type": "code",
   "execution_count": 33,
   "metadata": {},
   "outputs": [
    {
     "name": "stdout",
     "output_type": "stream",
     "text": [
      "First row: [1 2 3]\n",
      "Second row: [4 5 6]\n",
      "Third row:  [7 8 9]\n"
     ]
    }
   ],
   "source": [
    "# 2 Dimension Array\n",
    "two_dimension_array = np.array([[1,2,3],[4,5,6], [7,8,9]])\n",
    "first_row = two_dimension_array[0]\n",
    "second_row = two_dimension_array[1]\n",
    "third_row = two_dimension_array[2]\n",
    "print('First row:', first_row)\n",
    "print('Second row:', second_row)\n",
    "print('Third row: ', third_row)"
   ]
  },
  {
   "cell_type": "code",
   "execution_count": 34,
   "metadata": {},
   "outputs": [
    {
     "name": "stdout",
     "output_type": "stream",
     "text": [
      "First column: [1 4 7]\n",
      "Second column: [2 5 8]\n",
      "Third column:  [3 6 9]\n",
      "[[1 2 3]\n",
      " [4 5 6]\n",
      " [7 8 9]]\n"
     ]
    }
   ],
   "source": [
    "first_column= two_dimension_array[:,0]\n",
    "second_column = two_dimension_array[:,1]\n",
    "third_column = two_dimension_array[:,2]\n",
    "print('First column:', first_column)\n",
    "print('Second column:', second_column)\n",
    "print('Third column: ', third_column)\n",
    "print(two_dimension_array)"
   ]
  },
  {
   "cell_type": "markdown",
   "metadata": {},
   "source": [
    "Slicing Numpy array"
   ]
  },
  {
   "cell_type": "code",
   "execution_count": 35,
   "metadata": {},
   "outputs": [
    {
     "name": "stdout",
     "output_type": "stream",
     "text": [
      "[[1 2]\n",
      " [4 5]]\n"
     ]
    }
   ],
   "source": [
    "two_dimension_array = np.array([[1,2,3],[4,5,6], [7,8,9]])\n",
    "first_two_rows_and_columns = two_dimension_array[0:2, 0:2]\n",
    "print(first_two_rows_and_columns)"
   ]
  },
  {
   "cell_type": "code",
   "execution_count": 38,
   "metadata": {},
   "outputs": [
    {
     "data": {
      "text/plain": [
       "array([[1, 2, 3],\n",
       "       [4, 5, 6],\n",
       "       [7, 8, 9]])"
      ]
     },
     "execution_count": 38,
     "metadata": {},
     "output_type": "execute_result"
    }
   ],
   "source": [
    "two_dimension_array[::]"
   ]
  },
  {
   "cell_type": "code",
   "execution_count": 40,
   "metadata": {},
   "outputs": [
    {
     "data": {
      "text/plain": [
       "array([[9, 8, 7],\n",
       "       [6, 5, 4],\n",
       "       [3, 2, 1]])"
      ]
     },
     "execution_count": 40,
     "metadata": {},
     "output_type": "execute_result"
    }
   ],
   "source": [
    "two_dimension_array = np.array([[1,2,3],[4,5,6], [7,8,9]])\n",
    "two_dimension_array[::-1,::-1]"
   ]
  },
  {
   "cell_type": "markdown",
   "metadata": {},
   "source": [
    "How to represent missing values ?"
   ]
  },
  {
   "cell_type": "code",
   "execution_count": 41,
   "metadata": {},
   "outputs": [
    {
     "name": "stdout",
     "output_type": "stream",
     "text": [
      "[[1 2 3]\n",
      " [4 5 6]\n",
      " [7 8 9]]\n",
      "[[ 1  2  3]\n",
      " [ 4 55 44]\n",
      " [ 7  8  9]]\n"
     ]
    }
   ],
   "source": [
    "print(two_dimension_array)\n",
    "two_dimension_array[1,1] = 55\n",
    "two_dimension_array[1,2] =44\n",
    "print(two_dimension_array)"
   ]
  },
  {
   "cell_type": "code",
   "execution_count": 42,
   "metadata": {},
   "outputs": [
    {
     "data": {
      "text/plain": [
       "array([[0, 0, 0],\n",
       "       [0, 0, 0],\n",
       "       [0, 0, 0]])"
      ]
     },
     "execution_count": 42,
     "metadata": {},
     "output_type": "execute_result"
    }
   ],
   "source": [
    "# Numpy Zeroes\n",
    "   \n",
    "numpy_zeroes = np.zeros((3,3),dtype=int,order='C')\n",
    "numpy_zeroes"
   ]
  },
  {
   "cell_type": "code",
   "execution_count": 43,
   "metadata": {},
   "outputs": [
    {
     "name": "stdout",
     "output_type": "stream",
     "text": [
      "[[1 1 1]\n",
      " [1 1 1]\n",
      " [1 1 1]]\n"
     ]
    }
   ],
   "source": [
    "# Numpy Zeroes\n",
    "numpy_ones = np.ones((3,3),dtype=int,order='C')\n",
    "print(numpy_ones)"
   ]
  },
  {
   "cell_type": "code",
   "execution_count": 45,
   "metadata": {},
   "outputs": [
    {
     "name": "stdout",
     "output_type": "stream",
     "text": [
      "[[1 2 3]\n",
      " [4 5 6]]\n",
      "[[1 2]\n",
      " [3 4]\n",
      " [5 6]]\n"
     ]
    }
   ],
   "source": [
    "# Reshape\n",
    "# numpy.reshape(), numpy.flatten()\n",
    "first_shape  = np.array([(1,2,3), (4,5,6)])\n",
    "print(first_shape)\n",
    "reshaped = first_shape.reshape(3,2)\n",
    "print(reshaped)"
   ]
  },
  {
   "cell_type": "code",
   "execution_count": 46,
   "metadata": {},
   "outputs": [
    {
     "data": {
      "text/plain": [
       "array([1, 2, 3, 4, 5, 6])"
      ]
     },
     "execution_count": 46,
     "metadata": {},
     "output_type": "execute_result"
    }
   ],
   "source": [
    "flattened = reshaped.flatten()\n",
    "flattened"
   ]
  },
  {
   "cell_type": "code",
   "execution_count": 48,
   "metadata": {},
   "outputs": [
    {
     "name": "stdout",
     "output_type": "stream",
     "text": [
      "[5 7 9]\n",
      "Horizontal Append: [1 2 3 4 5 6]\n"
     ]
    }
   ],
   "source": [
    "## Horitzontal Stack\n",
    "np_list_one = np.array([1,2,3])\n",
    "np_list_two = np.array([4,5,6])\n",
    "\n",
    "print(np_list_one + np_list_two)\n",
    "\n",
    "print('Horizontal Append:', np.hstack((np_list_one, np_list_two)))"
   ]
  },
  {
   "cell_type": "code",
   "execution_count": 49,
   "metadata": {},
   "outputs": [
    {
     "name": "stdout",
     "output_type": "stream",
     "text": [
      "Vertical Append: [[1 2 3]\n",
      " [4 5 6]]\n"
     ]
    }
   ],
   "source": [
    "## Vertical Stack\n",
    "print('Vertical Append:', np.vstack((np_list_one, np_list_two)))\n"
   ]
  },
  {
   "cell_type": "code",
   "execution_count": 50,
   "metadata": {},
   "outputs": [
    {
     "data": {
      "text/plain": [
       "0.9209358131047302"
      ]
     },
     "execution_count": 50,
     "metadata": {},
     "output_type": "execute_result"
    }
   ],
   "source": [
    "# Generate a random float  number\n",
    "random_float = np.random.random()\n",
    "random_float"
   ]
  },
  {
   "cell_type": "code",
   "execution_count": 51,
   "metadata": {},
   "outputs": [
    {
     "data": {
      "text/plain": [
       "array([0.32418352, 0.1087454 , 0.2840974 , 0.07400642, 0.67030962])"
      ]
     },
     "execution_count": 51,
     "metadata": {},
     "output_type": "execute_result"
    }
   ],
   "source": [
    " # Generate a random float  number\n",
    "random_floats = np.random.random(5)\n",
    "random_floats"
   ]
  },
  {
   "cell_type": "code",
   "execution_count": 53,
   "metadata": {},
   "outputs": [
    {
     "data": {
      "text/plain": [
       "10"
      ]
     },
     "execution_count": 53,
     "metadata": {},
     "output_type": "execute_result"
    }
   ],
   "source": [
    " # Generating a random integers between 0 and 10\n",
    "\n",
    "random_int = np.random.randint(0, 11)\n",
    "random_int"
   ]
  },
  {
   "cell_type": "code",
   "execution_count": 56,
   "metadata": {},
   "outputs": [
    {
     "data": {
      "text/plain": [
       "array([3, 4, 7, 2])"
      ]
     },
     "execution_count": 56,
     "metadata": {},
     "output_type": "execute_result"
    }
   ],
   "source": [
    " # Generating a random integers between 2 and 11, and creating a one row array\n",
    "random_int = np.random.randint(2,10, size=(4))\n",
    "random_int"
   ]
  },
  {
   "cell_type": "code",
   "execution_count": 57,
   "metadata": {},
   "outputs": [
    {
     "data": {
      "text/plain": [
       "array([[9, 3, 3],\n",
       "       [3, 8, 6],\n",
       "       [9, 8, 8]])"
      ]
     },
     "execution_count": 57,
     "metadata": {},
     "output_type": "execute_result"
    }
   ],
   "source": [
    "# Generating a random integers between 0 and 10\n",
    "random_int = np.random.randint(2,10, size=(3,3))\n",
    "random_int"
   ]
  },
  {
   "cell_type": "markdown",
   "metadata": {},
   "source": [
    "Generationg random numbers"
   ]
  },
  {
   "cell_type": "code",
   "execution_count": null,
   "metadata": {},
   "outputs": [],
   "source": [
    "  # np.random.normal(mu, sigma, size)\n",
    "normal_array = np.random.normal(79, 15, 80)\n",
    "normal_array"
   ]
  },
  {
   "cell_type": "code",
   "execution_count": 65,
   "metadata": {},
   "outputs": [
    {
     "data": {
      "text/plain": [
       "(array([1., 0., 1., 2., 1., 1., 3., 1., 1., 3., 2., 3., 3., 1., 4., 3., 2.,\n",
       "        0., 3., 4., 2., 2., 3., 0., 2., 4., 2., 5., 3., 0., 2., 3., 1., 0.,\n",
       "        1., 1., 1., 1., 2., 1., 1., 0., 2., 0., 0., 0., 0., 0., 1., 1.]),\n",
       " array([ 52.54254429,  53.87205617,  55.20156805,  56.53107993,\n",
       "         57.86059181,  59.19010369,  60.51961557,  61.84912745,\n",
       "         63.17863933,  64.50815121,  65.83766309,  67.16717498,\n",
       "         68.49668686,  69.82619874,  71.15571062,  72.4852225 ,\n",
       "         73.81473438,  75.14424626,  76.47375814,  77.80327002,\n",
       "         79.1327819 ,  80.46229378,  81.79180566,  83.12131754,\n",
       "         84.45082942,  85.7803413 ,  87.10985318,  88.43936507,\n",
       "         89.76887695,  91.09838883,  92.42790071,  93.75741259,\n",
       "         95.08692447,  96.41643635,  97.74594823,  99.07546011,\n",
       "        100.40497199, 101.73448387, 103.06399575, 104.39350763,\n",
       "        105.72301951, 107.05253139, 108.38204327, 109.71155516,\n",
       "        111.04106704, 112.37057892, 113.7000908 , 115.02960268,\n",
       "        116.35911456, 117.68862644, 119.01813832]),\n",
       " <BarContainer object of 50 artists>)"
      ]
     },
     "execution_count": 65,
     "metadata": {},
     "output_type": "execute_result"
    },
    {
     "data": {
      "image/png": "[encoded data removed]",
      "text/plain": [
       "<Figure size 640x480 with 1 Axes>"
      ]
     },
     "metadata": {},
     "output_type": "display_data"
    }
   ],
   "source": [
    "import matplotlib.pyplot as plt\n",
    "import seaborn as sns\n",
    "sns.set()\n",
    "plt.hist(normal_array, color='grey', bins=50)"
   ]
  },
  {
   "cell_type": "markdown",
   "metadata": {},
   "source": [
    "Matrix in numpy"
   ]
  },
  {
   "cell_type": "code",
   "execution_count": 66,
   "metadata": {},
   "outputs": [],
   "source": [
    "four_by_four_matrix = np.matrix(np.ones((4,4), dtype=float))\n"
   ]
  },
  {
   "cell_type": "code",
   "execution_count": 67,
   "metadata": {},
   "outputs": [
    {
     "data": {
      "text/plain": [
       "matrix([[1., 1., 1., 1.],\n",
       "        [1., 1., 1., 1.],\n",
       "        [1., 1., 1., 1.],\n",
       "        [1., 1., 1., 1.]])"
      ]
     },
     "execution_count": 67,
     "metadata": {},
     "output_type": "execute_result"
    }
   ],
   "source": [
    "four_by_four_matrix"
   ]
  },
  {
   "cell_type": "code",
   "execution_count": 68,
   "metadata": {},
   "outputs": [
    {
     "data": {
      "text/plain": [
       "matrix([[1., 1., 1., 1.],\n",
       "        [1., 1., 1., 1.],\n",
       "        [2., 2., 2., 2.],\n",
       "        [1., 1., 1., 1.]])"
      ]
     },
     "execution_count": 68,
     "metadata": {},
     "output_type": "execute_result"
    }
   ],
   "source": [
    "np.asarray(four_by_four_matrix)[2] = 2\n",
    "four_by_four_matrix"
   ]
  },
  {
   "cell_type": "markdown",
   "metadata": {},
   "source": [
    "Numpy numpy.arange()"
   ]
  },
  {
   "cell_type": "code",
   "execution_count": 69,
   "metadata": {},
   "outputs": [
    {
     "data": {
      "text/plain": [
       "range(0, 11, 2)"
      ]
     },
     "execution_count": 69,
     "metadata": {},
     "output_type": "execute_result"
    }
   ],
   "source": [
    "# creating list using range(starting, stop, step)\n",
    "lst = range(0, 11, 2)\n",
    "lst"
   ]
  },
  {
   "cell_type": "code",
   "execution_count": 70,
   "metadata": {},
   "outputs": [
    {
     "name": "stdout",
     "output_type": "stream",
     "text": [
      "0\n",
      "2\n",
      "4\n",
      "6\n",
      "8\n",
      "10\n"
     ]
    }
   ],
   "source": [
    "for l in lst:\n",
    "    print(l)"
   ]
  },
  {
   "cell_type": "code",
   "execution_count": 71,
   "metadata": {},
   "outputs": [
    {
     "data": {
      "text/plain": [
       "array([ 0,  1,  2,  3,  4,  5,  6,  7,  8,  9, 10, 11, 12, 13, 14, 15, 16,\n",
       "       17, 18, 19])"
      ]
     },
     "execution_count": 71,
     "metadata": {},
     "output_type": "execute_result"
    }
   ],
   "source": [
    "# Similar to range arange numpy.arange(start, stop, step)\n",
    "whole_numbers = np.arange(0, 20, 1)\n",
    "whole_numbers"
   ]
  },
  {
   "cell_type": "code",
   "execution_count": 72,
   "metadata": {},
   "outputs": [
    {
     "data": {
      "text/plain": [
       "array([ 1,  2,  3,  4,  5,  6,  7,  8,  9, 10, 11, 12, 13, 14, 15, 16, 17,\n",
       "       18, 19])"
      ]
     },
     "execution_count": 72,
     "metadata": {},
     "output_type": "execute_result"
    }
   ],
   "source": [
    "natural_numbers = np.arange(1, 20, 1)\n",
    "natural_numbers"
   ]
  },
  {
   "cell_type": "code",
   "execution_count": 74,
   "metadata": {},
   "outputs": [
    {
     "data": {
      "text/plain": [
       "array([ 1,  3,  5,  7,  9, 11, 13, 15, 17, 19])"
      ]
     },
     "execution_count": 74,
     "metadata": {},
     "output_type": "execute_result"
    }
   ],
   "source": [
    "odd_numbers = np.arange(1, 20, 2)\n",
    "odd_numbers"
   ]
  },
  {
   "cell_type": "code",
   "execution_count": 75,
   "metadata": {},
   "outputs": [
    {
     "data": {
      "text/plain": [
       "array([ 2,  4,  6,  8, 10, 12, 14, 16, 18])"
      ]
     },
     "execution_count": 75,
     "metadata": {},
     "output_type": "execute_result"
    }
   ],
   "source": [
    "even_numbers = np.arange(2, 20, 2)\n",
    "even_numbers"
   ]
  },
  {
   "cell_type": "markdown",
   "metadata": {},
   "source": [
    "Creating sequence of numbers using linspace"
   ]
  },
  {
   "cell_type": "code",
   "execution_count": 76,
   "metadata": {},
   "outputs": [
    {
     "data": {
      "text/plain": [
       "array([1.        , 1.44444444, 1.88888889, 2.33333333, 2.77777778,\n",
       "       3.22222222, 3.66666667, 4.11111111, 4.55555556, 5.        ])"
      ]
     },
     "execution_count": 76,
     "metadata": {},
     "output_type": "execute_result"
    }
   ],
   "source": [
    "# numpy.linspace()\n",
    "# numpy.logspace() in Python with Example\n",
    "# For instance, it can be used to create 10 values from 1 to 5 evenly spaced.\n",
    "np.linspace(1.0, 5.0, num=10)"
   ]
  },
  {
   "cell_type": "code",
   "execution_count": 77,
   "metadata": {},
   "outputs": [
    {
     "data": {
      "text/plain": [
       "array([1. , 1.8, 2.6, 3.4, 4.2])"
      ]
     },
     "execution_count": 77,
     "metadata": {},
     "output_type": "execute_result"
    }
   ],
   "source": [
    "# not to include the last value in the interval\n",
    "np.linspace(1.0, 5.0, num=5, endpoint=False)"
   ]
  },
  {
   "cell_type": "code",
   "execution_count": 78,
   "metadata": {},
   "outputs": [
    {
     "data": {
      "text/plain": [
       "array([  100.        ,   464.15888336,  2154.43469003, 10000.        ])"
      ]
     },
     "execution_count": 78,
     "metadata": {},
     "output_type": "execute_result"
    }
   ],
   "source": [
    "# LogSpace\n",
    "# LogSpace returns even spaced numbers on a log scale. Logspace has the same parameters as np.linspace.\n",
    "\n",
    "# Syntax:\n",
    "\n",
    "# numpy.logspace(start, stop, num, endpoint)\n",
    "\n",
    "np.logspace(2, 4.0, num=4)"
   ]
  },
  {
   "cell_type": "code",
   "execution_count": 79,
   "metadata": {},
   "outputs": [],
   "source": [
    "# to check the size of an array\n",
    "x = np.array([1,2,3], dtype=np.complex128)"
   ]
  },
  {
   "cell_type": "code",
   "execution_count": 80,
   "metadata": {},
   "outputs": [
    {
     "data": {
      "text/plain": [
       "array([1.+0.j, 2.+0.j, 3.+0.j])"
      ]
     },
     "execution_count": 80,
     "metadata": {},
     "output_type": "execute_result"
    }
   ],
   "source": [
    "x"
   ]
  },
  {
   "cell_type": "code",
   "execution_count": 81,
   "metadata": {},
   "outputs": [
    {
     "data": {
      "text/plain": [
       "16"
      ]
     },
     "execution_count": 81,
     "metadata": {},
     "output_type": "execute_result"
    }
   ],
   "source": [
    "x.itemsize"
   ]
  },
  {
   "cell_type": "code",
   "execution_count": 82,
   "metadata": {},
   "outputs": [
    {
     "data": {
      "text/plain": [
       "array([[1, 2, 3],\n",
       "       [4, 5, 6]])"
      ]
     },
     "execution_count": 82,
     "metadata": {},
     "output_type": "execute_result"
    }
   ],
   "source": [
    "# indexing and Slicing NumPy Arrays in Python\n",
    "np_list = np.array([(1,2,3), (4,5,6)])\n",
    "np_list"
   ]
  },
  {
   "cell_type": "code",
   "execution_count": 84,
   "metadata": {},
   "outputs": [
    {
     "name": "stdout",
     "output_type": "stream",
     "text": [
      "First row:  [1 2 3]\n",
      "Second row:  [4 5 6]\n"
     ]
    }
   ],
   "source": [
    "print('First row: ', np_list[0])\n",
    "print('Second row: ', np_list[1])"
   ]
  },
  {
   "cell_type": "code",
   "execution_count": 85,
   "metadata": {},
   "outputs": [
    {
     "name": "stdout",
     "output_type": "stream",
     "text": [
      "First column:  [1 4]\n",
      "Second column:  [2 5]\n",
      "Third column:  [3 6]\n"
     ]
    }
   ],
   "source": [
    "print('First column: ', np_list[:,0])\n",
    "print('Second column: ', np_list[:,1])\n",
    "print('Third column: ', np_list[:,2])"
   ]
  },
  {
   "cell_type": "markdown",
   "metadata": {},
   "source": [
    "NumPy Statistical Functions with Example"
   ]
  },
  {
   "cell_type": "code",
   "execution_count": 86,
   "metadata": {},
   "outputs": [
    {
     "name": "stdout",
     "output_type": "stream",
     "text": [
      "min:  1\n",
      "max:  55\n",
      "mean:  14.777777777777779\n",
      "sd:  18.913709183069525\n"
     ]
    }
   ],
   "source": [
    "np_normal_dis = np.random.normal(5, 0.5, 100)\n",
    "np_normal_dis\n",
    "## min, max, mean, median, sd\n",
    "print('min: ', two_dimension_array.min())\n",
    "print('max: ', two_dimension_array.max())\n",
    "print('mean: ',two_dimension_array.mean())\n",
    "# print('median: ', two_dimension_array.median())\n",
    "print('sd: ', two_dimension_array.std())"
   ]
  },
  {
   "cell_type": "code",
   "execution_count": 87,
   "metadata": {},
   "outputs": [
    {
     "name": "stdout",
     "output_type": "stream",
     "text": [
      "[[ 1  2  3]\n",
      " [ 4 55 44]\n",
      " [ 7  8  9]]\n",
      "Column with minimum:  [1 2 3]\n",
      "Column with maximum:  [ 7 55 44]\n",
      "=== Row ==\n",
      "Row with minimum:  [1 4 7]\n",
      "Row with maximum:  [ 3 55  9]\n"
     ]
    }
   ],
   "source": [
    "print(two_dimension_array)\n",
    "print('Column with minimum: ', np.amin(two_dimension_array,axis=0))\n",
    "print('Column with maximum: ', np.amax(two_dimension_array,axis=0))\n",
    "print('=== Row ==')\n",
    "print('Row with minimum: ', np.amin(two_dimension_array,axis=1))\n",
    "print('Row with maximum: ', np.amax(two_dimension_array,axis=1))"
   ]
  },
  {
   "cell_type": "markdown",
   "metadata": {},
   "source": [
    "How to create repeating sequences?"
   ]
  },
  {
   "cell_type": "code",
   "execution_count": 88,
   "metadata": {},
   "outputs": [
    {
     "name": "stdout",
     "output_type": "stream",
     "text": [
      "Tile:    [1 2 3 1 2 3]\n",
      "Repeat:  [1 1 2 2 3 3]\n"
     ]
    }
   ],
   "source": [
    "a = [1,2,3]\n",
    "\n",
    "# Repeat whole of 'a' two times\n",
    "print('Tile:   ', np.tile(a, 2))\n",
    "\n",
    "# Repeat each element of 'a' two times\n",
    "print('Repeat: ', np.repeat(a, 2))\n"
   ]
  },
  {
   "cell_type": "markdown",
   "metadata": {},
   "source": [
    "How to generate random numbers?"
   ]
  },
  {
   "cell_type": "code",
   "execution_count": 89,
   "metadata": {},
   "outputs": [
    {
     "name": "stdout",
     "output_type": "stream",
     "text": [
      "0.6605762491061895\n"
     ]
    }
   ],
   "source": [
    "# One random number between [0,1)\n",
    "one_random_num = np.random.random()\n",
    "one_random_in = np.random\n",
    "print(one_random_num)"
   ]
  },
  {
   "cell_type": "code",
   "execution_count": 90,
   "metadata": {},
   "outputs": [
    {
     "name": "stdout",
     "output_type": "stream",
     "text": [
      "[[0.5899339  0.97444468 0.17824066]\n",
      " [0.20885673 0.4765086  0.65948365]]\n"
     ]
    }
   ],
   "source": [
    "# Random numbers between [0,1) of shape 2,3\n",
    "r = np.random.random(size=[2,3])\n",
    "print(r)"
   ]
  },
  {
   "cell_type": "code",
   "execution_count": 91,
   "metadata": {},
   "outputs": [
    {
     "name": "stdout",
     "output_type": "stream",
     "text": [
      "['u' 'u' 'i' 'o' 'e' 'u' 'a' 'i' 'u' 'u']\n"
     ]
    }
   ],
   "source": [
    "print(np.random.choice(['a', 'e', 'i', 'o', 'u'], size=10))"
   ]
  },
  {
   "cell_type": "code",
   "execution_count": 92,
   "metadata": {},
   "outputs": [
    {
     "data": {
      "text/plain": [
       "array([[0.33109531, 0.3966264 ],\n",
       "       [0.26996689, 0.43124244]])"
      ]
     },
     "execution_count": 92,
     "metadata": {},
     "output_type": "execute_result"
    }
   ],
   "source": [
    "## Random numbers between [0, 1] of shape 2, 2\n",
    "rand = np.random.rand(2,2)\n",
    "rand"
   ]
  },
  {
   "cell_type": "code",
   "execution_count": 93,
   "metadata": {},
   "outputs": [
    {
     "data": {
      "text/plain": [
       "array([[ 0.62341821,  0.97362014],\n",
       "       [-0.48884326, -0.48313964]])"
      ]
     },
     "execution_count": 93,
     "metadata": {},
     "output_type": "execute_result"
    }
   ],
   "source": [
    "rand2 = np.random.randn(2,2)\n",
    "rand2\n"
   ]
  },
  {
   "cell_type": "code",
   "execution_count": 94,
   "metadata": {},
   "outputs": [
    {
     "data": {
      "text/plain": [
       "array([[1, 5, 4],\n",
       "       [1, 9, 2],\n",
       "       [5, 0, 1],\n",
       "       [7, 0, 3],\n",
       "       [8, 9, 3]])"
      ]
     },
     "execution_count": 94,
     "metadata": {},
     "output_type": "execute_result"
    }
   ],
   "source": [
    "# Random integers between [0, 10) of shape 2,5\n",
    "rand_int = np.random.randint(0, 10, size=[5,3])\n",
    "rand_int"
   ]
  },
  {
   "cell_type": "code",
   "execution_count": 96,
   "metadata": {},
   "outputs": [
    {
     "name": "stdout",
     "output_type": "stream",
     "text": [
      "min:  3.6253423011230312\n",
      "max:  6.879268369065804\n",
      "mean:  5.037112505302316\n",
      "median:  5.055575169738484\n",
      "sd:  0.5021185773229949\n"
     ]
    }
   ],
   "source": [
    "from scipy import stats\n",
    "np_normal_dis = np.random.normal(5, 0.5, 1000) # mean, standard deviation, number of samples\n",
    "np_normal_dis\n",
    "## min, max, mean, median, sd\n",
    "print('min: ', np.min(np_normal_dis))\n",
    "print('max: ', np.max(np_normal_dis))\n",
    "print('mean: ', np.mean(np_normal_dis))\n",
    "print('median: ', np.median(np_normal_dis))\n",
    "#print('mode: ', stats.mode(np_normal_dis))\n",
    "print('sd: ', np.std(np_normal_dis))"
   ]
  },
  {
   "cell_type": "code",
   "execution_count": 97,
   "metadata": {},
   "outputs": [
    {
     "data": {
      "image/png": "[encoded data removed]",
      "text/plain": [
       "<Figure size 640x480 with 1 Axes>"
      ]
     },
     "metadata": {},
     "output_type": "display_data"
    }
   ],
   "source": [
    "plt.hist(np_normal_dis, color=\"grey\", bins=21)\n",
    "plt.show()"
   ]
  },
  {
   "cell_type": "markdown",
   "metadata": {},
   "source": [
    "Linear Algebra"
   ]
  },
  {
   "cell_type": "code",
   "execution_count": 98,
   "metadata": {},
   "outputs": [
    {
     "data": {
      "text/plain": [
       "23"
      ]
     },
     "execution_count": 98,
     "metadata": {},
     "output_type": "execute_result"
    }
   ],
   "source": [
    "## Linear algebra\n",
    "### Dot product: product of two arrays\n",
    "f = np.array([1,2,3])\n",
    "g = np.array([4,5,3])\n",
    "### 1*4+2*5 + 3*6\n",
    "np.dot(f, g)  # 23"
   ]
  },
  {
   "cell_type": "markdown",
   "metadata": {},
   "source": [
    "NumPy Matrix Multiplication with np.matmul()"
   ]
  },
  {
   "cell_type": "code",
   "execution_count": 99,
   "metadata": {},
   "outputs": [
    {
     "data": {
      "text/plain": [
       "array([[19, 22],\n",
       "       [43, 50]])"
      ]
     },
     "execution_count": 99,
     "metadata": {},
     "output_type": "execute_result"
    }
   ],
   "source": [
    "### Matmul: matruc product of two arrays\n",
    "h = [[1,2],[3,4]]\n",
    "i = [[5,6],[7,8]]\n",
    "### 1*5+2*7 = 19\n",
    "np.matmul(h, i)"
   ]
  },
  {
   "cell_type": "code",
   "execution_count": 100,
   "metadata": {},
   "outputs": [
    {
     "data": {
      "text/plain": [
       "-2.000000000000005"
      ]
     },
     "execution_count": 100,
     "metadata": {},
     "output_type": "execute_result"
    }
   ],
   "source": [
    "np.linalg.det(i)"
   ]
  },
  {
   "cell_type": "code",
   "execution_count": 101,
   "metadata": {},
   "outputs": [
    {
     "data": {
      "text/plain": [
       "array([[0., 1., 0., 1., 0., 1., 0., 1.],\n",
       "       [1., 0., 1., 0., 1., 0., 1., 0.],\n",
       "       [0., 1., 0., 1., 0., 1., 0., 1.],\n",
       "       [1., 0., 1., 0., 1., 0., 1., 0.],\n",
       "       [0., 1., 0., 1., 0., 1., 0., 1.],\n",
       "       [1., 0., 1., 0., 1., 0., 1., 0.],\n",
       "       [0., 1., 0., 1., 0., 1., 0., 1.],\n",
       "       [1., 0., 1., 0., 1., 0., 1., 0.]])"
      ]
     },
     "execution_count": 101,
     "metadata": {},
     "output_type": "execute_result"
    }
   ],
   "source": [
    "Z = np.zeros((8,8))\n",
    "Z[1::2,::2] = 1\n",
    "Z[::2,1::2] = 1\n",
    "Z"
   ]
  },
  {
   "cell_type": "code",
   "execution_count": 102,
   "metadata": {},
   "outputs": [
    {
     "data": {
      "text/plain": [
       "[2, 3, 4, 5, 6, 7, 8, 9, 10, 11, 12]"
      ]
     },
     "execution_count": 102,
     "metadata": {},
     "output_type": "execute_result"
    }
   ],
   "source": [
    "new_list = [ x + 2 for x in range(0, 11)]\n",
    "new_list"
   ]
  },
  {
   "cell_type": "code",
   "execution_count": 103,
   "metadata": {},
   "outputs": [
    {
     "data": {
      "text/plain": [
       "array([ 2,  3,  4,  5,  6,  7,  8,  9, 10, 11, 12])"
      ]
     },
     "execution_count": 103,
     "metadata": {},
     "output_type": "execute_result"
    }
   ],
   "source": [
    "np_arr = np.array(range(0, 11))\n",
    "np_arr + 2"
   ]
  },
  {
   "cell_type": "code",
   "execution_count": 104,
   "metadata": {},
   "outputs": [
    {
     "data": {
      "text/plain": [
       "array([ 7,  9, 11, 13, 15])"
      ]
     },
     "execution_count": 104,
     "metadata": {},
     "output_type": "execute_result"
    }
   ],
   "source": [
    "temp = np.array([1,2,3,4,5])\n",
    "pressure = temp * 2 + 5\n",
    "pressure"
   ]
  },
  {
   "cell_type": "code",
   "execution_count": 105,
   "metadata": {},
   "outputs": [
    {
     "data": {
      "image/png": "[encoded data removed]",
      "text/plain": [
       "<Figure size 640x480 with 1 Axes>"
      ]
     },
     "metadata": {},
     "output_type": "display_data"
    }
   ],
   "source": [
    "plt.plot(temp,pressure)\n",
    "plt.xlabel('Temperature in oC')\n",
    "plt.ylabel('Pressure in atm')\n",
    "plt.title('Temperature vs Pressure')\n",
    "plt.xticks(np.arange(0, 6, step=0.5))\n",
    "plt.show()"
   ]
  },
  {
   "cell_type": "code",
   "execution_count": 106,
   "metadata": {},
   "outputs": [
    {
     "name": "stderr",
     "output_type": "stream",
     "text": [
      "C:\\Users\\BASHIR PC\\AppData\\Local\\Temp\\ipykernel_2792\\786642678.py:6: UserWarning: \n",
      "\n",
      "`distplot` is a deprecated function and will be removed in seaborn v0.14.0.\n",
      "\n",
      "Please adapt your code to use either `displot` (a figure-level function with\n",
      "similar flexibility) or `histplot` (an axes-level function for histograms).\n",
      "\n",
      "For a guide to updating your code to use the new functions, please see\n",
      "https://gist.github.com/mwaskom/de44147ed2974457ad6372750bbe5751\n",
      "\n",
      "  ax = sns.distplot(x);\n"
     ]
    },
    {
     "data": {
      "image/png": "[encoded data removed]",
      "text/plain": [
       "<Figure size 640x480 with 1 Axes>"
      ]
     },
     "metadata": {},
     "output_type": "display_data"
    }
   ],
   "source": [
    "mu = 28\n",
    "sigma = 15\n",
    "samples = 100000\n",
    "\n",
    "x = np.random.normal(mu, sigma, samples)\n",
    "ax = sns.distplot(x);\n",
    "ax.set(xlabel=\"x\", ylabel='y')\n",
    "plt.show()"
   ]
  },
  {
   "cell_type": "code",
   "execution_count": null,
   "metadata": {},
   "outputs": [],
   "source": []
  }
 ],
 "metadata": {
  "kernelspec": {
   "display_name": "base",
   "language": "python",
   "name": "python3"
  },
  "language_info": {
   "codemirror_mode": {
    "name": "ipython",
    "version": 3
   },
   "file_extension": ".py",
   "mimetype": "text/x-python",
   "name": "python",
   "nbconvert_exporter": "python",
   "pygments_lexer": "ipython3",
   "version": "3.10.4"
  }
 },
 "nbformat": 4,
 "nbformat_minor": 2
}
