{
 "cells": [
  {
   "cell_type": "markdown",
   "metadata": {},
   "source": [
    "#    Exercises: Level 1"
   ]
  },
  {
   "cell_type": "code",
   "execution_count": 1,
   "metadata": {},
   "outputs": [
    {
     "name": "stdout",
     "output_type": "stream",
     "text": [
      "The datatype of first_name <class 'str'>\n"
     ]
    }
   ],
   "source": [
    "#Question 3: Declare a first name variable and assign a value to it\n",
    "first_name = 'Sani'\n",
    "print('The datatype of first_name', type(first_name))"
   ]
  },
  {
   "cell_type": "code",
   "execution_count": 2,
   "metadata": {},
   "outputs": [
    {
     "name": "stdout",
     "output_type": "stream",
     "text": [
      "Th datatype of last_name is: <class 'str'>\n"
     ]
    }
   ],
   "source": [
    "#Question 4: Declare a last name variable and assign a value to it\n",
    "last_name = 'Abubakar'\n",
    "print('Th datatype of last_name is:', type(last_name))"
   ]
  },
  {
   "cell_type": "code",
   "execution_count": 3,
   "metadata": {},
   "outputs": [
    {
     "name": "stdout",
     "output_type": "stream",
     "text": [
      "The datatype pf full_name is: <class 'str'>\n"
     ]
    }
   ],
   "source": [
    "#Question 5: Declare a full name variable and assign a value to it\n",
    "full_name = first_name + \" \" + last_name\n",
    "print('The datatype pf full_name is:', type(full_name))"
   ]
  },
  {
   "cell_type": "code",
   "execution_count": 4,
   "metadata": {},
   "outputs": [
    {
     "name": "stdout",
     "output_type": "stream",
     "text": [
      "The datatype of country is: <class 'str'>\n"
     ]
    }
   ],
   "source": [
    "#Question 6: Declare a country variable and assign a value to it\n",
    "country = \"Nigeria\"\n",
    "print('The datatype of country is:', type(country))"
   ]
  },
  {
   "cell_type": "code",
   "execution_count": 5,
   "metadata": {},
   "outputs": [
    {
     "name": "stdout",
     "output_type": "stream",
     "text": [
      "The datatype of city is: <class 'str'>\n"
     ]
    }
   ],
   "source": [
    "#Question 7: Declare a city variable and assign a values to it\n",
    "city = \"Kaduna\"\n",
    "print('The datatype of city is:', type(city))"
   ]
  },
  {
   "cell_type": "code",
   "execution_count": 6,
   "metadata": {},
   "outputs": [
    {
     "name": "stdout",
     "output_type": "stream",
     "text": [
      "The data type of age is: <class 'int'>\n"
     ]
    }
   ],
   "source": [
    "#Question 8: Declare an age varibale and assign a value to it\n",
    "age = 19\n",
    "print('The data type of age is:', type(age))"
   ]
  },
  {
   "cell_type": "code",
   "execution_count": 7,
   "metadata": {},
   "outputs": [
    {
     "name": "stdout",
     "output_type": "stream",
     "text": [
      "The data type of year is <class 'int'>\n"
     ]
    }
   ],
   "source": [
    "# Question 9: Declare a year varibale and assign a value to it\n",
    "year = 2023\n",
    "print('The data type of year is', type(year))"
   ]
  },
  {
   "cell_type": "code",
   "execution_count": 8,
   "metadata": {},
   "outputs": [
    {
     "name": "stdout",
     "output_type": "stream",
     "text": [
      "The data type of is_married is: <class 'bool'>\n"
     ]
    }
   ],
   "source": [
    "# Question 10: Declare a variable is_married and assign a value to it\n",
    "is_married = True\n",
    "print('The data type of is_married is:', type(is_married))"
   ]
  },
  {
   "cell_type": "code",
   "execution_count": 9,
   "metadata": {},
   "outputs": [
    {
     "name": "stdout",
     "output_type": "stream",
     "text": [
      "The data type of is_true is: <class 'bool'>\n"
     ]
    }
   ],
   "source": [
    "#Question 11: Declare a varibale is_true and assign a value to it\n",
    "is_true = True\n",
    "print('The data type of is_true is:', type(is_true))"
   ]
  },
  {
   "cell_type": "code",
   "execution_count": 10,
   "metadata": {},
   "outputs": [
    {
     "name": "stdout",
     "output_type": "stream",
     "text": [
      "The data type of is_light is: <class 'bool'>\n"
     ]
    }
   ],
   "source": [
    "#Question 12: Declare a variable is_ligh and assign a value to it\n",
    "is_light = False\n",
    "print('The data type of is_light is:', type(is_light))"
   ]
  },
  {
   "cell_type": "code",
   "execution_count": 11,
   "metadata": {},
   "outputs": [
    {
     "name": "stdout",
     "output_type": "stream",
     "text": [
      "My name is Sani, 12 old. I am from Nigeria.\n"
     ]
    }
   ],
   "source": [
    "# Question 13: Declare multiple varibale on one line\n",
    "name, age, country = 'Sani', 12, 'Nigeria'\n",
    "print(f\"My name is {name}, {age} old. I am from {country}.\")"
   ]
  },
  {
   "cell_type": "markdown",
   "metadata": {},
   "source": [
    "#    Exercises: Level 2"
   ]
  },
  {
   "cell_type": "code",
   "execution_count": 12,
   "metadata": {},
   "outputs": [
    {
     "name": "stdout",
     "output_type": "stream",
     "text": [
      "4\n"
     ]
    }
   ],
   "source": [
    "#Question 2: Using the len() buit-in function, find the length of your first name\n",
    "print(len(first_name))"
   ]
  },
  {
   "cell_type": "code",
   "execution_count": 13,
   "metadata": {},
   "outputs": [
    {
     "name": "stdout",
     "output_type": "stream",
     "text": [
      "False\n"
     ]
    }
   ],
   "source": [
    "# Question 3: Compare the lenght of your first name and last name\n",
    "print(len(first_name) == len(last_name))"
   ]
  },
  {
   "cell_type": "code",
   "execution_count": 14,
   "metadata": {},
   "outputs": [],
   "source": [
    "# Question 4: Declare 5 as num_one and 4 as num_two\n",
    "num_one = 5\n",
    "num_two = 4"
   ]
  },
  {
   "cell_type": "code",
   "execution_count": 15,
   "metadata": {},
   "outputs": [
    {
     "name": "stdout",
     "output_type": "stream",
     "text": [
      "The sum of 5 and 4 is 9\n",
      "The difference of 5 and 4 is 1\n",
      "The product of 5 and 4 is 20\n",
      "Division of 5 by 4 is 1.25\n",
      "The modulus of 5 and 4 is 1\n",
      "The exponention: 625\n",
      "1\n"
     ]
    }
   ],
   "source": [
    "# i. Add num_one and num_two and assign the value to a variable total\n",
    "total = num_one + num_two\n",
    "print(f\"The sum of {num_one} and {num_two} is {total}\")\n",
    "\n",
    "# ii. Subtract num_two from num_one and assign the value to a varibale diff\n",
    "diff = num_one - num_two\n",
    "print(f\"The difference of {num_one} and {num_two} is {diff}\")\n",
    "\n",
    "#iii. Multiply num_two and num_one and assign the value to a varibale product\n",
    "product = num_one * num_two\n",
    "print(f\"The product of {num_one} and {num_two} is {product}\")\n",
    "\n",
    "#iv. Divide num_one by num_two and assign the value to a variable division\n",
    "division = num_one / num_two\n",
    "print(f\"Division of {num_one} by {num_two} is {division}\")\n",
    "\n",
    "# v. Use modulus division to find num_two divided by num_one and assign the value to a variable remainder\n",
    "remainder = num_one % num_two\n",
    "print(f\"The modulus of {num_one} and {num_two} is {remainder}\")\n",
    "\n",
    "# vi. Calculate num_one to the power of num_two and assign the value to a variable exp\n",
    "exp = num_one ** num_two\n",
    "print(\"The exponention:\",exp)\n",
    "\n",
    "# vii. Find floor division of num_one by num_two and assign the value to a variable floor_division\n",
    "floor_division = num_one // num_two\n",
    "print(floor_division)"
   ]
  },
  {
   "cell_type": "code",
   "execution_count": 16,
   "metadata": {},
   "outputs": [
    {
     "name": "stdout",
     "output_type": "stream",
     "text": [
      "The area of a circle with 30 is 2827.7999999999997\n",
      "188.51999999999998\n",
      "314.2\n"
     ]
    }
   ],
   "source": [
    "# Question 5: The radius of a cricle is 30 meters\n",
    "# i. Calculate the area of a circle and assign the value to a variable name of area_of_circle\n",
    "'''\n",
    "    The formula to calculate the area of a circle is  pi * r * r\n",
    "'''\n",
    "pi = 3.142 # constant value\n",
    "radius = 30\n",
    "area_of_circle = pi * radius * radius\n",
    "print(f\"The area of a circle with {radius} is {area_of_circle}\")  \n",
    "\n",
    "# ii. Calculate the circumference of a circle and assign the value to a variable name of circum_of_circle\n",
    "\n",
    "'''\n",
    "    The formula to calculate the circumference of a circle is  2 * pi * R\n",
    "'''\n",
    "\n",
    "circum_of_circle = 2 * pi * radius\n",
    "print(circum_of_circle)\n",
    "# iii. Take radius as user input and calculate the area.\n",
    "radius = int(input(\"Enter the radius of the circle \"))\n",
    "area = pi * radius * radius\n",
    "print(area)"
   ]
  },
  {
   "cell_type": "code",
   "execution_count": 17,
   "metadata": {},
   "outputs": [
    {
     "name": "stdout",
     "output_type": "stream",
     "text": [
      "First name  Bashir\n",
      "Last name  Abubakar\n",
      "Country  Nigeria\n",
      "age  10\n",
      "\n",
      "Here is a list of the Python keywords.  Enter any keyword to get more help.\n",
      "\n",
      "False               class               from                or\n",
      "None                continue            global              pass\n",
      "True                def                 if                  raise\n",
      "and                 del                 import              return\n",
      "as                  elif                in                  try\n",
      "assert              else                is                  while\n",
      "async               except              lambda              with\n",
      "await               finally             nonlocal            yield\n",
      "break               for                 not                 \n",
      "\n"
     ]
    }
   ],
   "source": [
    "# Question 6: Use the built-in input function to get first name, last name, country and age from a user and store the value to their corresponding variable names\n",
    "\n",
    "first_name = input(\"Enter your first name: \")\n",
    "last_name = input(\"Enter your last name: \")\n",
    "country = input(\"Enter the name of your country: \")\n",
    "age = input(\"Enter your age: \")\n",
    "\n",
    "print(\"First name \", first_name)\n",
    "print(\"Last name \", last_name)\n",
    "print(\"Country \", country)\n",
    "print('age ', age)\n",
    "\n",
    "help('keywords')"
   ]
  }
 ],
 "metadata": {
  "kernelspec": {
   "display_name": "arewadatascience",
   "language": "python",
   "name": "python3"
  },
  "language_info": {
   "codemirror_mode": {
    "name": "ipython",
    "version": 3
   },
   "file_extension": ".py",
   "mimetype": "text/x-python",
   "name": "python",
   "nbconvert_exporter": "python",
   "pygments_lexer": "ipython3",
   "version": "3.10.13"
  }
 },
 "nbformat": 4,
 "nbformat_minor": 2
}
