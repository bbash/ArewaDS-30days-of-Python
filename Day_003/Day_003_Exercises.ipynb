{
 "cells": [
  {
   "cell_type": "code",
   "execution_count": 56,
   "metadata": {},
   "outputs": [],
   "source": [
    "# Question 1: Declare your age as integer variable\n",
    "age = 19"
   ]
  },
  {
   "cell_type": "code",
   "execution_count": 57,
   "metadata": {},
   "outputs": [],
   "source": [
    "# Question 2: Declare your height as a float variable\n",
    "height = 1.7"
   ]
  },
  {
   "cell_type": "code",
   "execution_count": 58,
   "metadata": {},
   "outputs": [],
   "source": [
    "# Question 3: Declare a variable that store a complex number\n",
    "position = 2 - 4j"
   ]
  },
  {
   "cell_type": "code",
   "execution_count": 59,
   "metadata": {},
   "outputs": [
    {
     "name": "stdout",
     "output_type": "stream",
     "text": [
      "The area of the triangle is 12.50\n"
     ]
    }
   ],
   "source": [
    "# Question 4: Write a script that prompts the user to enter base and height of the triangle and calculate an area of this triangle (area = 0.5 x b x h).\n",
    "base = int(input(\"Enter base: \"))\n",
    "height = int(input(\"Enter height: \"))\n",
    "print(f\"The area of the triangle is {0.5 * base * height:.2f}\")"
   ]
  },
  {
   "cell_type": "code",
   "execution_count": 60,
   "metadata": {},
   "outputs": [
    {
     "name": "stdout",
     "output_type": "stream",
     "text": [
      "The perimeter of the triangle is 16\n"
     ]
    }
   ],
   "source": [
    "# Question 5: Write a script that prompts the user to enter side a, side b, and side c of the triangle. Calculate the perimeter of the triangle (perimeter = a + b + c).\n",
    "side_a = int(input(\"Enter side a: \"))\n",
    "side_b = int(input(\"Enter side b: \"))\n",
    "side_c = int(input(\"Enter side c: \"))\n",
    "print(f\"The perimeter of the triangle is {side_a + side_b + side_c}\")"
   ]
  },
  {
   "cell_type": "code",
   "execution_count": 61,
   "metadata": {},
   "outputs": [
    {
     "name": "stdout",
     "output_type": "stream",
     "text": [
      "The area of the rectangle is 25.00\n",
      "The perimeter of the rectangle is 20.00\n"
     ]
    }
   ],
   "source": [
    "# Question 6: Get length and width of a rectangle using prompt. Calculate its area (area = length x width) and perimeter (perimeter = 2 x (length + width))\n",
    "length = float(input(\"Enter heigth: \"))\n",
    "width = float(input(\"Enter width: \"))\n",
    "area = length * width\n",
    "perimeter = 2 * (length + width)\n",
    "print(f\"The area of the rectangle is {area:.2f}\")\n",
    "print(f\"The perimeter of the rectangle is {perimeter:.2f}\")"
   ]
  },
  {
   "cell_type": "code",
   "execution_count": 62,
   "metadata": {},
   "outputs": [
    {
     "name": "stdout",
     "output_type": "stream",
     "text": [
      "The area of the circle is 78.50\n",
      "The circumference of the circle is 31.40\n"
     ]
    }
   ],
   "source": [
    "#Question 7: Get radius of a circle using prompt. Calculate the area (area = pi x r x r) and circumference (c = 2 x pi x r) where pi = 3.14.\n",
    "radius = int(input(\"Enter radius: \"))\n",
    "pi = 3.14 # constant\n",
    "area = pi * radius * radius\n",
    "circumference = 2 * pi * radius\n",
    "print(f\"The area of the circle is {area:.2f}\")\n",
    "print(f\"The circumference of the circle is {circumference:.2f}\")"
   ]
  },
  {
   "cell_type": "code",
   "execution_count": 63,
   "metadata": {},
   "outputs": [
    {
     "name": "stdout",
     "output_type": "stream",
     "text": [
      "The slope and x-intercept of y = 2x-2 is: 2  and the y-intercept is: -2\n"
     ]
    }
   ],
   "source": [
    "# Question 8: Calculate the slope, x-intercept and y-intercept of y = 2x -2\n",
    "# The equation form is y = mx + b, where m is the slope and b is the y intercept\n",
    "# comparing            y = 2x -2 ; m = 2, y = -2\n",
    "slope , y = 2, -2\n",
    "print(f\"The slope and x-intercept of y = 2x-2 is: {slope}  and the y-intercept is: {y}\")"
   ]
  },
  {
   "cell_type": "code",
   "execution_count": 64,
   "metadata": {},
   "outputs": [
    {
     "name": "stdout",
     "output_type": "stream",
     "text": [
      "The slope is 2.00\n",
      "The Euclidean distance is 8.94\n"
     ]
    }
   ],
   "source": [
    "# Question 9: Slope is (m = y2-y1/x2-x1). Find the slope and Euclidean distance between point (2, 2) and point (6,10)\n",
    "import math\n",
    "\n",
    "x1 = 2  # x-coordinate\n",
    "x2 = 6  # x-coordinate\n",
    "y1 = 2   # -coordinate\n",
    "y2 = 10  # -coordinate\n",
    "\n",
    "m_slope = (y2 - y1)/(x2 - x1)\n",
    "print(f\"The slope is {m_slope:.2f}\")\n",
    " \n",
    "euclidean_dis = math.sqrt((x2 - x1) ** 2 + (y2 - y1) ** 2)\n",
    "print(f\"The Euclidean distance is {euclidean_dis:.2f}\")"
   ]
  },
  {
   "cell_type": "code",
   "execution_count": 65,
   "metadata": {},
   "outputs": [
    {
     "name": "stdout",
     "output_type": "stream",
     "text": [
      "Is slope of Q8 greater than of Q9 False\n"
     ]
    }
   ],
   "source": [
    "# Question 10: Compare the slopes in tasks 8 and 9.\n",
    "print(f\"Is slope of Q8 greater than of Q9 {slope > m_slope}\")"
   ]
  },
  {
   "cell_type": "code",
   "execution_count": 66,
   "metadata": {},
   "outputs": [
    {
     "name": "stdout",
     "output_type": "stream",
     "text": [
      "The value of y is 49\n"
     ]
    }
   ],
   "source": [
    "#Question 11: Calculate the value of y (y = x^2 + 6x + 9). Try to use different x values and figure out at what x value y is going to be 0.\n",
    "\n",
    "x_value = int(input(\"Enter x value: \"))\n",
    "y_value = x_value ** 2 + 6 * x_value + 9\n",
    "print(f\"The value of y is {y_value}\")"
   ]
  },
  {
   "cell_type": "code",
   "execution_count": 67,
   "metadata": {},
   "outputs": [
    {
     "name": "stdout",
     "output_type": "stream",
     "text": [
      "False\n"
     ]
    }
   ],
   "source": [
    "# Question 12: Find the length of 'python' and 'dragon' and make a falsy comparison statement.\n",
    "length_of_python = len(\"Python\")\n",
    "lenght_of_dragon = len(\"Dragon\")\n",
    "print(lenght_of_dragon > length_of_python)"
   ]
  },
  {
   "cell_type": "code",
   "execution_count": 68,
   "metadata": {},
   "outputs": [
    {
     "name": "stdout",
     "output_type": "stream",
     "text": [
      "Is On is found in both python and dragon True \n"
     ]
    }
   ],
   "source": [
    "# Question 13: Use and operator to check if 'on' is found in both 'python' and 'dragon'\n",
    "print(f\"Is On is found in both python and dragon {'on' in 'python' and 'on' in 'dragon'} \")"
   ]
  },
  {
   "cell_type": "code",
   "execution_count": 69,
   "metadata": {},
   "outputs": [
    {
     "name": "stdout",
     "output_type": "stream",
     "text": [
      "check if the word jargon is in the sentence True\n"
     ]
    }
   ],
   "source": [
    "# Question 14: I hope this course is not full of jargon. Use in operator to check if jargon is in the sentence.\n",
    "sentence = \"I hope this course is not full of jargon.\"\n",
    "print(f\"check if the word jargon is in the sentence {'jargon' in sentence}\")"
   ]
  },
  {
   "cell_type": "code",
   "execution_count": 70,
   "metadata": {},
   "outputs": [
    {
     "name": "stdout",
     "output_type": "stream",
     "text": [
      "Check the absent of on in both dragon and python False\n"
     ]
    }
   ],
   "source": [
    "# Question 15: There is no 'on' in both dragon and python\n",
    "print(f\"Check the absent of on in both dragon and python {'on' not in 'dragon' and 'on' not in 'python' }\")"
   ]
  },
  {
   "cell_type": "code",
   "execution_count": 71,
   "metadata": {},
   "outputs": [
    {
     "name": "stdout",
     "output_type": "stream",
     "text": [
      "length of text is 6, in float 6.0, in string 6\n"
     ]
    }
   ],
   "source": [
    "#Question 16: Find the length of the text python and convert the value to float and convert it to string\n",
    "text_length = len('python')\n",
    "float_value = float(text_length)\n",
    "string_value = str(text_length)\n",
    "print(f\"length of text is {text_length}, in float {float_value}, in string {string_value}\")"
   ]
  },
  {
   "cell_type": "code",
   "execution_count": 72,
   "metadata": {},
   "outputs": [
    {
     "name": "stdout",
     "output_type": "stream",
     "text": [
      "Is the number even? False.\n"
     ]
    }
   ],
   "source": [
    "# Question 17: Even numbers are divisible by 2 and the remainder is zero. How do you check if a number is even or not using python?\n",
    "number = int(input(\"Enter number: \"))\n",
    "print(f\"Is the number even? {number % 2 == 0}.\")"
   ]
  },
  {
   "cell_type": "code",
   "execution_count": 73,
   "metadata": {},
   "outputs": [
    {
     "name": "stdout",
     "output_type": "stream",
     "text": [
      "Is floor divison of 7 and 3 equal to the int convert value of 2.7 True\n"
     ]
    }
   ],
   "source": [
    "# Question 18: Check if the floor division of 7 by 3 is equal to the int converted value of 2.7\n",
    "floor_div = 7 // 3\n",
    "print(f\"Is floor divison of 7 and 3 equal to the int convert value of 2.7 {floor_div == int(2.7)}\")"
   ]
  },
  {
   "cell_type": "code",
   "execution_count": 74,
   "metadata": {},
   "outputs": [
    {
     "name": "stdout",
     "output_type": "stream",
     "text": [
      "Is type '10' equal to type 10 False\n"
     ]
    }
   ],
   "source": [
    "# Question 19: Check if type of '10' is equal to type of 10\n",
    "print(f\"Is type '10' equal to type 10 {type('10') == type(10)}\")"
   ]
  },
  {
   "cell_type": "code",
   "execution_count": 75,
   "metadata": {},
   "outputs": [
    {
     "name": "stdout",
     "output_type": "stream",
     "text": [
      "Is int('9.8') is equal to 10 False\n"
     ]
    }
   ],
   "source": [
    "# Question 20: Check if int('9.8') is equal to 10\n",
    "print(f\"Is int('9.8') is equal to 10 { int(9.8) == 10}\")"
   ]
  },
  {
   "cell_type": "code",
   "execution_count": 76,
   "metadata": {},
   "outputs": [
    {
     "name": "stdout",
     "output_type": "stream",
     "text": [
      "Your weekly earning is 20\n"
     ]
    }
   ],
   "source": [
    "# Question 21: Writ a script that prompts the user to enter hours and rate per hour. Calculate pay of the person?\n",
    "hour = int(input(\"Enter hours: \"))\n",
    "rate = int(input(\"Enter rate per hour: \"))\n",
    "print(f\"Your weekly earning is {hour * rate}\")"
   ]
  },
  {
   "cell_type": "code",
   "execution_count": 77,
   "metadata": {},
   "outputs": [
    {
     "name": "stdout",
     "output_type": "stream",
     "text": [
      "You have lived for 157,680,000 seconds.\n"
     ]
    }
   ],
   "source": [
    "\n",
    "# Question 22: Write a script that prompts the user to enter number of years. Calculate the number of seconds a person can live. Assume a person can live hundred years\n",
    "number_of_years = int(input('Enter number of years you have lived: '))\n",
    "lived = 24 * 60 * 60 * 365 * number_of_years\n",
    "print(f\"You have lived for {lived:,} seconds.\")"
   ]
  },
  {
   "cell_type": "code",
   "execution_count": 78,
   "metadata": {},
   "outputs": [
    {
     "name": "stdout",
     "output_type": "stream",
     "text": [
      "\n",
      " 1 1 1 1 1 \n",
      " 2 1 2 4 8 \n",
      " 3 1 3 9 27 \n",
      " 4 1 4 16 64 \n",
      " 5 1 5 25 125 "
     ]
    }
   ],
   "source": [
    "# Question 23: Write a Python script that displays the following table\n",
    "for i in range(1, 6):\n",
    "    print( '\\n', i, end = \" \")\n",
    "    for j in range(4):\n",
    "        print(f\"{i ** j}\", end = \" \")"
   ]
  }
 ],
 "metadata": {
  "kernelspec": {
   "display_name": "arewadatascience",
   "language": "python",
   "name": "python3"
  },
  "language_info": {
   "codemirror_mode": {
    "name": "ipython",
    "version": 3
   },
   "file_extension": ".py",
   "mimetype": "text/x-python",
   "name": "python",
   "nbconvert_exporter": "python",
   "pygments_lexer": "ipython3",
   "version": "3.10.13"
  }
 },
 "nbformat": 4,
 "nbformat_minor": 2
}
