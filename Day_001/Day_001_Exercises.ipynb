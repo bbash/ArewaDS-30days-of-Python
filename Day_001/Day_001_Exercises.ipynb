{
 "cells": [
  {
   "cell_type": "markdown",
   "metadata": {},
   "source": [
    "# Exercise Level 2"
   ]
  },
  {
   "cell_type": "code",
   "execution_count": 9,
   "metadata": {},
   "outputs": [
    {
     "name": "stdout",
     "output_type": "stream",
     "text": [
      "The Python version is 3.10.13 | packaged by Anaconda, Inc. | (main, Sep 11 2023, 13:24:38) [MSC v.1916 64 bit (AMD64)]\n"
     ]
    }
   ],
   "source": [
    "# Question 1: Check the python version you are using\n",
    "import sys\n",
    "print(f\"The Python version is {sys.version}\")"
   ]
  },
  {
   "cell_type": "code",
   "execution_count": 10,
   "metadata": {},
   "outputs": [
    {
     "name": "stdout",
     "output_type": "stream",
     "text": [
      "Addition of 3 and 4 is: 7\n",
      "Substraction of 3 and 4 is: -1\n",
      "Multiplication of 3 and 4 is: 12\n",
      "Modulus operation of 3 and 4 is: 3\n",
      "Division of 3 and 4 is: 0.75\n",
      "Expotential of 3 and 4 is: 81\n",
      "Floor operation of 3 and 4 is: 0\n"
     ]
    }
   ],
   "source": [
    "# Question 2:  Open the python interactive shell and do the following operations. The operands are 3 and 4.\n",
    "print(f\"Addition of 3 and 4 is: {3 + 4}\")\n",
    "print(f\"Substraction of 3 and 4 is: {3 - 4}\")\n",
    "print(f\"Multiplication of 3 and 4 is: {3 * 4}\")\n",
    "print(f\"Modulus operation of 3 and 4 is: {3 % 4}\")\n",
    "print(f\"Division of 3 and 4 is: {3 / 4}\")\n",
    "print(f\"Expotential of 3 and 4 is: {3 ** 4}\")\n",
    "print(f\"Floor operation of 3 and 4 is: {3 // 4}\")"
   ]
  },
  {
   "cell_type": "code",
   "execution_count": 11,
   "metadata": {},
   "outputs": [
    {
     "name": "stdout",
     "output_type": "stream",
     "text": [
      "My name is Abubakar\n",
      "My family name is Bashir\n",
      "My country is Nigeria\n",
      "I am enjoying 30 Days of Python\n"
     ]
    }
   ],
   "source": [
    "# Question 3: Write strings on the python interactive shell. The strings are the following:\n",
    "print(\"My name is Abubakar\")\n",
    "print(\"My family name is Bashir\")\n",
    "print(\"My country is Nigeria\")\n",
    "print(\"I am enjoying 30 Days of Python\")"
   ]
  },
  {
   "cell_type": "markdown",
   "metadata": {},
   "source": [
    "# Exercise Level 3\n"
   ]
  },
  {
   "cell_type": "code",
   "execution_count": 12,
   "metadata": {},
   "outputs": [
    {
     "name": "stdout",
     "output_type": "stream",
     "text": [
      "The data type of 10:  <class 'int'>\n",
      "The data type 9.8:  <class 'float'>\n",
      "The data type of 3.14  <class 'float'>\n",
      "The data type of 4-4j  <class 'complex'>\n",
      "The data type of ['Asabeneh', 'Python', 'Finland']:  <class 'list'>\n",
      "The data type of my name is:  <class 'str'>\n",
      "The data type of my family name is  <class 'str'>\n",
      "The data type of my country is:  <class 'str'>\n"
     ]
    }
   ],
   "source": [
    "#Question 1: checking the type of variables\n",
    "print(\"The data type of 10: \", type(10))\n",
    "print(\"The data type 9.8: \", type(9.8))\n",
    "print(\"The data type of 3.14 \", type(3.14))\n",
    "print(\"The data type of 4-4j \",type(4-4j)) \n",
    "print(\"The data type of ['Asabeneh', 'Python', 'Finland']: \", type(['Asabeneh', 'Python', 'Finland']))\n",
    "print(\"The data type of my name is: \", type(\"Abubakar\"))\n",
    "print(\"The data type of my family name is \", type(\"Bashir\"))\n",
    "print(\"The data type of my country is: \", type(\"Nigeria\"))"
   ]
  },
  {
   "cell_type": "code",
   "execution_count": 13,
   "metadata": {},
   "outputs": [
    {
     "name": "stdout",
     "output_type": "stream",
     "text": [
      "The Euclian distance between (2,3) and (10, 8) is: 9.43\n"
     ]
    }
   ],
   "source": [
    "# Question 2: Find an Euclidian distance between (2, 3) and (10, 8)\n",
    "# the formula to calculate Euclidian distance is: d ** 2 = (x1 - x2) ** 2 + (yi - y2) ** 2\n",
    "\n",
    "import math\n",
    "distance = math.sqrt((10 - 2) ** 2 + (8 - 3) ** 2)\n",
    "print(f\"The Euclian distance between (2,3) and (10, 8) is: {distance:.2f}\")"
   ]
  }
 ],
 "metadata": {
  "kernelspec": {
   "display_name": "arewadatascience",
   "language": "python",
   "name": "python3"
  },
  "language_info": {
   "codemirror_mode": {
    "name": "ipython",
    "version": 3
   },
   "file_extension": ".py",
   "mimetype": "text/x-python",
   "name": "python",
   "nbconvert_exporter": "python",
   "pygments_lexer": "ipython3",
   "version": "3.10.13"
  }
 },
 "nbformat": 4,
 "nbformat_minor": 2
}
